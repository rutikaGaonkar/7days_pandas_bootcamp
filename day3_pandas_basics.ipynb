{
 "cells": [
  {
   "cell_type": "code",
   "execution_count": 4,
   "id": "2742393d-70fa-410f-a53a-b0d832510f92",
   "metadata": {},
   "outputs": [
    {
     "data": {
      "text/html": [
       "<div>\n",
       "<style scoped>\n",
       "    .dataframe tbody tr th:only-of-type {\n",
       "        vertical-align: middle;\n",
       "    }\n",
       "\n",
       "    .dataframe tbody tr th {\n",
       "        vertical-align: top;\n",
       "    }\n",
       "\n",
       "    .dataframe thead th {\n",
       "        text-align: right;\n",
       "    }\n",
       "</style>\n",
       "<table border=\"1\" class=\"dataframe\">\n",
       "  <thead>\n",
       "    <tr style=\"text-align: right;\">\n",
       "      <th></th>\n",
       "      <th>Employee ID</th>\n",
       "      <th>Name</th>\n",
       "      <th>Department</th>\n",
       "      <th>Salary</th>\n",
       "      <th>YEARS_at_COMPANY</th>\n",
       "      <th>Bonus%</th>\n",
       "    </tr>\n",
       "  </thead>\n",
       "  <tbody>\n",
       "    <tr>\n",
       "      <th>0</th>\n",
       "      <td>201.0</td>\n",
       "      <td>Luna</td>\n",
       "      <td>Sales</td>\n",
       "      <td>62000.0</td>\n",
       "      <td>3</td>\n",
       "      <td>0.12</td>\n",
       "    </tr>\n",
       "    <tr>\n",
       "      <th>1</th>\n",
       "      <td>202.0</td>\n",
       "      <td>Noah</td>\n",
       "      <td>Sales</td>\n",
       "      <td>NaN</td>\n",
       "      <td>two</td>\n",
       "      <td>0.10</td>\n",
       "    </tr>\n",
       "    <tr>\n",
       "      <th>2</th>\n",
       "      <td>203.0</td>\n",
       "      <td>Zara</td>\n",
       "      <td>HR</td>\n",
       "      <td>58000.0</td>\n",
       "      <td>4</td>\n",
       "      <td>NaN</td>\n",
       "    </tr>\n",
       "    <tr>\n",
       "      <th>3</th>\n",
       "      <td>204.0</td>\n",
       "      <td>Kai</td>\n",
       "      <td>IT</td>\n",
       "      <td>61000.0</td>\n",
       "      <td>5</td>\n",
       "      <td>0.09</td>\n",
       "    </tr>\n",
       "    <tr>\n",
       "      <th>4</th>\n",
       "      <td>204.0</td>\n",
       "      <td>Kai</td>\n",
       "      <td>IT</td>\n",
       "      <td>61000.0</td>\n",
       "      <td>5</td>\n",
       "      <td>0.09</td>\n",
       "    </tr>\n",
       "  </tbody>\n",
       "</table>\n",
       "</div>"
      ],
      "text/plain": [
       "    Employee ID   Name  Department   Salary YEARS_at_COMPANY   Bonus%\n",
       "0          201.0  Luna       Sales  62000.0                 3    0.12\n",
       "1          202.0  Noah       Sales      NaN               two    0.10\n",
       "2          203.0  Zara          HR  58000.0                 4     NaN\n",
       "3          204.0   Kai          IT  61000.0                 5    0.09\n",
       "4          204.0   Kai          IT  61000.0                 5    0.09"
      ]
     },
     "execution_count": 4,
     "metadata": {},
     "output_type": "execute_result"
    }
   ],
   "source": [
    "import pandas as pd\n",
    "df = pd.read_csv(\"sample_employee_data2.csv\")\n",
    "\n",
    "df.head()"
   ]
  },
  {
   "cell_type": "code",
   "execution_count": 12,
   "id": "896331f9-999e-4090-ac7c-e42fceea2bdf",
   "metadata": {},
   "outputs": [
    {
     "data": {
      "text/plain": [
       "Index(['employee_id', 'name', 'department', 'salary', 'years_at_company',\n",
       "       'bonus%'],\n",
       "      dtype='object')"
      ]
     },
     "execution_count": 12,
     "metadata": {},
     "output_type": "execute_result"
    }
   ],
   "source": [
    "df.columns = df.columns.str.strip().str.lower().str.replace(\" \", \"_\")\n",
    "df.columns"
   ]
  },
  {
   "cell_type": "code",
   "execution_count": 14,
   "id": "cd5cdd05-f35f-4231-ac9a-dbc49d1d9282",
   "metadata": {},
   "outputs": [
    {
     "data": {
      "text/plain": [
       "employee_id         1\n",
       "name                0\n",
       "department          0\n",
       "salary              1\n",
       "years_at_company    1\n",
       "bonus%              1\n",
       "dtype: int64"
      ]
     },
     "execution_count": 14,
     "metadata": {},
     "output_type": "execute_result"
    }
   ],
   "source": [
    "df.isnull().sum()"
   ]
  },
  {
   "cell_type": "code",
   "execution_count": 20,
   "id": "afa27368-c833-4bfd-9c7e-31eba6770633",
   "metadata": {},
   "outputs": [
    {
     "data": {
      "text/plain": [
       "0    62000.000000\n",
       "1    59666.666667\n",
       "2    58000.000000\n",
       "3    61000.000000\n",
       "4    61000.000000\n",
       "5    57000.000000\n",
       "6    59000.000000\n",
       "Name: salary, dtype: float64"
      ]
     },
     "execution_count": 20,
     "metadata": {},
     "output_type": "execute_result"
    }
   ],
   "source": [
    "df['salary'].fillna(df['salary'].mean())"
   ]
  },
  {
   "cell_type": "code",
   "execution_count": 22,
   "id": "ac3ff1f4-d3fb-467f-9155-0a438b14945e",
   "metadata": {},
   "outputs": [
    {
     "data": {
      "text/plain": [
       "count        7.000000\n",
       "mean     59666.666667\n",
       "std       1795.054936\n",
       "min      57000.000000\n",
       "25%      58500.000000\n",
       "50%      59666.666667\n",
       "75%      61000.000000\n",
       "max      62000.000000\n",
       "Name: salary, dtype: float64"
      ]
     },
     "execution_count": 22,
     "metadata": {},
     "output_type": "execute_result"
    }
   ],
   "source": [
    "df['salary'].describe()"
   ]
  },
  {
   "cell_type": "code",
   "execution_count": 30,
   "id": "539b3c2b-b4c1-494f-bd36-f6496f70482e",
   "metadata": {},
   "outputs": [
    {
     "data": {
      "text/plain": [
       "0    0.120000\n",
       "1    0.100000\n",
       "2    0.098333\n",
       "3    0.090000\n",
       "4    0.090000\n",
       "5    0.110000\n",
       "6    0.080000\n",
       "Name: bonus%, dtype: float64"
      ]
     },
     "execution_count": 30,
     "metadata": {},
     "output_type": "execute_result"
    }
   ],
   "source": [
    "df['bonus%'] = df['bonus%'].fillna(df['bonus%'].mean())\n",
    "df['bonus%']"
   ]
  },
  {
   "cell_type": "code",
   "execution_count": 40,
   "id": "7889911f-ee5b-4047-b250-2817940f15e7",
   "metadata": {},
   "outputs": [],
   "source": [
    "df.dropna(subset = ['employee_id'], inplace=True)"
   ]
  },
  {
   "cell_type": "code",
   "execution_count": 48,
   "id": "1c394789-61ed-4ea3-a8d9-24fdbfb6ceda",
   "metadata": {},
   "outputs": [],
   "source": [
    "df['years_at_company'] = pd.to_numeric(df['years_at_company'], errors='coerce')"
   ]
  },
  {
   "cell_type": "code",
   "execution_count": 58,
   "id": "ffafe6d0-055c-4f77-b108-044efecad824",
   "metadata": {},
   "outputs": [],
   "source": [
    "df['years_at_company'] = df['years_at_company'].fillna(df['years_at_company'].mean())"
   ]
  },
  {
   "cell_type": "code",
   "execution_count": 62,
   "id": "2302f633-55e9-4d32-8160-127bd6210c57",
   "metadata": {},
   "outputs": [
    {
     "data": {
      "text/plain": [
       "employee_id         0\n",
       "name                0\n",
       "department          0\n",
       "salary              0\n",
       "years_at_company    0\n",
       "bonus%              0\n",
       "dtype: int64"
      ]
     },
     "execution_count": 62,
     "metadata": {},
     "output_type": "execute_result"
    }
   ],
   "source": [
    "df.isnull().sum()"
   ]
  },
  {
   "cell_type": "code",
   "execution_count": 64,
   "id": "08c60b65-3a87-45b7-adc2-2b70706b8946",
   "metadata": {},
   "outputs": [],
   "source": [
    "df.drop_duplicates(inplace=True)"
   ]
  },
  {
   "cell_type": "code",
   "execution_count": 66,
   "id": "3c150c89-c703-487d-921b-19ed815a0073",
   "metadata": {},
   "outputs": [
    {
     "data": {
      "text/plain": [
       "(5, 6)"
      ]
     },
     "execution_count": 66,
     "metadata": {},
     "output_type": "execute_result"
    }
   ],
   "source": [
    "df.shape"
   ]
  },
  {
   "cell_type": "code",
   "execution_count": 68,
   "id": "0657daa5-aad2-4550-81c4-0aaa719ec7e7",
   "metadata": {},
   "outputs": [],
   "source": [
    "df.to_csv(\"cleaned_employee_data.csv\", index=False)"
   ]
  }
 ],
 "metadata": {
  "kernelspec": {
   "display_name": "Python [conda env:base] *",
   "language": "python",
   "name": "conda-base-py"
  },
  "language_info": {
   "codemirror_mode": {
    "name": "ipython",
    "version": 3
   },
   "file_extension": ".py",
   "mimetype": "text/x-python",
   "name": "python",
   "nbconvert_exporter": "python",
   "pygments_lexer": "ipython3",
   "version": "3.12.7"
  }
 },
 "nbformat": 4,
 "nbformat_minor": 5
}
