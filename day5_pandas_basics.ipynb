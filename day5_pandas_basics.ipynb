{
 "cells": [
  {
   "cell_type": "code",
   "execution_count": 7,
   "id": "6532cbed-818c-4734-9480-26564dc1fe98",
   "metadata": {},
   "outputs": [
    {
     "name": "stdout",
     "output_type": "stream",
     "text": [
      "   ID     Name\n",
      "0   1    Alice\n",
      "1   2      Bob\n",
      "2   3  Charlie\n",
      "0   4    David\n",
      "1   5     Ella\n"
     ]
    }
   ],
   "source": [
    "import pandas as pd\n",
    "\n",
    "df1=pd.DataFrame({\n",
    "    'ID': [1, 2, 3],\n",
    "    'Name': ['Alice', 'Bob', 'Charlie'],\n",
    "})\n",
    "\n",
    "df2=pd.DataFrame({\n",
    "    'ID': [4, 5],\n",
    "    'Name': ['David', 'Ella']\n",
    "})\n",
    "\n",
    "result = pd.concat([df1, df2])\n",
    "print(result)\n"
   ]
  },
  {
   "cell_type": "code",
   "execution_count": 39,
   "id": "b18ca003-cd8b-44d0-bcfd-c7031895249b",
   "metadata": {},
   "outputs": [
    {
     "name": "stdout",
     "output_type": "stream",
     "text": [
      "   ID     Name  Age\n",
      "0   1    Alice   25\n",
      "1   2      Bob   30\n",
      "2   3  Charlie   35\n"
     ]
    }
   ],
   "source": [
    "df_left=pd.DataFrame({\n",
    "    'ID': [1, 2, 3],\n",
    "    'Name': ['Alice', 'Bob', 'Charlie']\n",
    "})\n",
    "\n",
    "df_right=pd.DataFrame({\n",
    "    'ID': [1, 2, 3],\n",
    "    'Age': [25, 30, 35]\n",
    "})\n",
    "\n",
    "merged=pd.merge(df_left, df_right, on = 'ID', how = 'inner')\n",
    "print(merged)"
   ]
  },
  {
   "cell_type": "code",
   "execution_count": 15,
   "id": "11be908d-0e10-4fa5-a383-296294b8da9a",
   "metadata": {},
   "outputs": [
    {
     "name": "stdout",
     "output_type": "stream",
     "text": [
      "    Name  Age\n",
      "1  Alice   25\n",
      "2    Bob   30\n"
     ]
    }
   ],
   "source": [
    "df_a=pd.DataFrame({'Name': ['Alice', 'Bob']}, index=[1, 2])\n",
    "df_b=pd.DataFrame({'Age': [25, 30]}, index=[1, 2])\n",
    "\n",
    "joined=df_a.join(df_b)\n",
    "print(joined)"
   ]
  },
  {
   "cell_type": "code",
   "execution_count": 17,
   "id": "ee916ed2-7da2-4b3b-a41f-f1409f3d3b9a",
   "metadata": {},
   "outputs": [
    {
     "name": "stdout",
     "output_type": "stream",
     "text": [
      "   ID     Name\n",
      "0   1    Alice\n",
      "1   2      Bob\n",
      "2   3  Charlie\n",
      "0   4    Diana\n",
      "1   5      Eva\n"
     ]
    }
   ],
   "source": [
    "df1=pd.DataFrame({\n",
    "    'ID': [1, 2, 3],\n",
    "    'Name': ['Alice', 'Bob', 'Charlie']\n",
    "})\n",
    "\n",
    "df2=pd.DataFrame({\n",
    "    'ID': [4, 5],\n",
    "    'Name': ['Diana', 'Eva']\n",
    "})\n",
    "\n",
    "result=pd.concat([df1, df2])\n",
    "print(result)"
   ]
  },
  {
   "cell_type": "code",
   "execution_count": 33,
   "id": "6e792202-fb87-497f-a100-f4d694b539ab",
   "metadata": {},
   "outputs": [
    {
     "name": "stdout",
     "output_type": "stream",
     "text": [
      "      Name  Age\n",
      "0    Alice   25\n",
      "1      Bob   30\n",
      "2  Charlie   35\n"
     ]
    }
   ],
   "source": [
    "df1=pd.DataFrame({'Name':['Alice', 'Bob', 'Charlie']})\n",
    "df2=pd.DataFrame({'Age': [25, 30, 35]})\n",
    "\n",
    "result=pd.concat([df1, df2], axis=1)\n",
    "print(result)"
   ]
  },
  {
   "cell_type": "code",
   "execution_count": 39,
   "id": "85e9a836-c023-45d4-bdbc-9c31cd15c2dc",
   "metadata": {},
   "outputs": [
    {
     "ename": "SyntaxError",
     "evalue": "':' expected after dictionary key (604016604.py, line 1)",
     "output_type": "error",
     "traceback": [
      "\u001b[0;36m  Cell \u001b[0;32mIn[39], line 1\u001b[0;36m\u001b[0m\n\u001b[0;31m    df1=pd.DataFrame({'Name': ['Alice', 'Bob', 'Charlie'], index=[0, 1, 2]})\u001b[0m\n\u001b[0m                                                               ^\u001b[0m\n\u001b[0;31mSyntaxError\u001b[0m\u001b[0;31m:\u001b[0m ':' expected after dictionary key\n"
     ]
    }
   ],
   "source": [
    "df1=pd.DataFrame({'Name': ['Alice', 'Bob', 'Charlie'], index=[0, 1, 2]})\n",
    "df2=pd.DataFrame({'Age': [25, 30, 35], index=[1, 2, 3]})\n",
    "\n",
    "result=pd.concat([df1, df2], axis=1)\n",
    "print(result)\n"
   ]
  },
  {
   "cell_type": "code",
   "execution_count": null,
   "id": "5fd0b0ee-edd7-449b-8f64-258fab21ce67",
   "metadata": {},
   "outputs": [],
   "source": []
  }
 ],
 "metadata": {
  "kernelspec": {
   "display_name": "Python [conda env:base] *",
   "language": "python",
   "name": "conda-base-py"
  },
  "language_info": {
   "codemirror_mode": {
    "name": "ipython",
    "version": 3
   },
   "file_extension": ".py",
   "mimetype": "text/x-python",
   "name": "python",
   "nbconvert_exporter": "python",
   "pygments_lexer": "ipython3",
   "version": "3.12.7"
  }
 },
 "nbformat": 4,
 "nbformat_minor": 5
}
